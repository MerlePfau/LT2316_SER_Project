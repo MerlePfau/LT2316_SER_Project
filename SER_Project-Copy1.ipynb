{
 "cells": [
  {
   "cell_type": "code",
   "execution_count": 40,
   "metadata": {},
   "outputs": [],
   "source": [
    "import soundfile\n",
    "import os, pickle\n",
    "import numpy as np\n",
    "import pandas as pd\n",
    "from pathlib import Path\n",
    "from glob import glob\n",
    "import torch\n",
    "from collections import Counter\n",
    "from sklearn.model_selection import train_test_split\n",
    "from sklearn import preprocessing\n",
    "from sklearn.metrics import accuracy_score\n",
    "from sklearn.metrics import classification_report, confusion_matrix\n",
    "import librosa\n",
    "from model import LSTM_fixed_len as model\n",
    "from model import Trainer\n",
    "from sklearn.metrics import f1_score\n",
    "import matplotlib.pyplot as plt\n",
    "import seaborn as sn"
   ]
  },
  {
   "cell_type": "code",
   "execution_count": 2,
   "metadata": {},
   "outputs": [],
   "source": [
    "device = torch.device('cuda:3')"
   ]
  },
  {
   "cell_type": "code",
   "execution_count": 3,
   "metadata": {},
   "outputs": [],
   "source": [
    "#set up trainer\n",
    "model_dump = \"project_models/\" \n",
    "trainer = Trainer(device, dump_folder=model_dump) "
   ]
  },
  {
   "cell_type": "code",
   "execution_count": 4,
   "metadata": {},
   "outputs": [],
   "source": [
    "def extract_feature(file_name):\n",
    "    #https://github.com/terranivium/speech-emotion-recognition/blob/master/speech_emotion_recognition.ipynb\n",
    "    with soundfile.SoundFile(file_name) as sound_file:\n",
    "        X = sound_file.read(dtype=\"float32\") # all depth 32bit float\n",
    "        sample_rate = sound_file.samplerate # always 16kHz\n",
    "        \n",
    "        # pre-emphasis\n",
    "        pre_emphasis = 0.97\n",
    "        X = np.append(X[0], X[1:] - pre_emphasis * X[:-1])\n",
    "\n",
    "        # remove silence\n",
    "        y = librosa.effects.split(X, top_db=20)\n",
    "        l = []\n",
    "        for i in y:\n",
    "            l.append(X[i[0]:i[1]] )\n",
    "        X = np.concatenate(l, axis=0)\n",
    "        \n",
    "        # extract features\n",
    "        stft=np.abs(librosa.stft(X))\n",
    "        chroma=np.mean(librosa.feature.chroma_stft(S=stft, sr=sample_rate).T,axis=0)\n",
    "        n_fft=int(0.500*sample_rate)\n",
    "        mfccs=np.mean(librosa.feature.mfcc(y=X, \n",
    "                                            sr=sample_rate, \n",
    "                                            n_mfcc=40,\n",
    "                                            power=2.0,\n",
    "                                            window = 'hamming',\n",
    "                                            fmin = 0,\n",
    "                                            fmax = 8000,\n",
    "                                            #n_fft=sr,\n",
    "                                            #win_length=n_fft,\n",
    "                                            center=True).T,axis=0)\n",
    "        mel=np.mean(librosa.feature.melspectrogram(X, sr=sample_rate).T,axis=0)\n",
    "    result=np.hstack((mfccs, chroma))\n",
    "    result = np.hstack((result, mel))\n",
    "    return result"
   ]
  },
  {
   "cell_type": "code",
   "execution_count": 5,
   "metadata": {},
   "outputs": [],
   "source": [
    "emotions={\n",
    "  0:'neutral',\n",
    "  1:'calm',\n",
    "  2:'happy',\n",
    "  3:'sad',\n",
    "  4:'angry',\n",
    "  5:'fearful',\n",
    "  6:'disgust',\n",
    "  7:'surprised'\n",
    "}\n",
    "target_names = list(emotions.keys())\n",
    "target_emotions = list(emotions.values())"
   ]
  },
  {
   "cell_type": "code",
   "execution_count": 6,
   "metadata": {},
   "outputs": [],
   "source": [
    "def load_data():\n",
    "    X,y=[],[]\n",
    "    all_files = Path(\"Audio_Speech_Actors_01-24\")\n",
    "\n",
    "    for file in all_files.glob(\"Actor_*/*.wav\"):\n",
    "        # get the base name of the audio file\n",
    "        basename = os.path.basename(file)\n",
    "        # get the emotion label\n",
    "        emotion = basename.split(\"-\")[2]\n",
    "        emotion = emotion.replace('0','')\n",
    "        emotion = int(emotion)-1\n",
    "        # extract features\n",
    "        features = extract_feature(file)\n",
    "        # add to data\n",
    "        X.append(features)\n",
    "        y.append(emotion)\n",
    "    return X, y"
   ]
  },
  {
   "cell_type": "code",
   "execution_count": 51,
   "metadata": {},
   "outputs": [],
   "source": [
    "x, y = load_data()"
   ]
  },
  {
   "cell_type": "code",
   "execution_count": 52,
   "metadata": {},
   "outputs": [
    {
     "data": {
      "text/plain": [
       "torch.Size([1440, 180])"
      ]
     },
     "execution_count": 52,
     "metadata": {},
     "output_type": "execute_result"
    }
   ],
   "source": [
    "x = torch.Tensor(x)\n",
    "x.shape"
   ]
  },
  {
   "cell_type": "code",
   "execution_count": 10,
   "metadata": {},
   "outputs": [],
   "source": [
    "x_train, x_test, y_train, y_test = train_test_split(x, y, test_size=0.15, random_state=9)\n",
    "x_train, x_val, y_train, y_val = train_test_split(x_train, y_train, test_size=0.1765, random_state=9)"
   ]
  },
  {
   "cell_type": "code",
   "execution_count": 11,
   "metadata": {},
   "outputs": [],
   "source": [
    "x_train, x_test, x_val, y_train, y_test, y_val = torch.Tensor(x_train), torch.Tensor(x_test), torch.Tensor(x_val), torch.LongTensor(y_train),  torch.LongTensor(y_test), torch.LongTensor(y_val)"
   ]
  },
  {
   "cell_type": "code",
   "execution_count": 14,
   "metadata": {},
   "outputs": [
    {
     "data": {
      "text/plain": [
       "torch.Size([1007, 180])"
      ]
     },
     "execution_count": 14,
     "metadata": {},
     "output_type": "execute_result"
    }
   ],
   "source": [
    "x_train.shape"
   ]
  },
  {
   "cell_type": "code",
   "execution_count": 15,
   "metadata": {},
   "outputs": [
    {
     "name": "stdout",
     "output_type": "stream",
     "text": [
      "Features extracted: 180\n"
     ]
    }
   ],
   "source": [
    "print(f'Features extracted: {x_train.shape[1]}')"
   ]
  },
  {
   "cell_type": "code",
   "execution_count": 16,
   "metadata": {},
   "outputs": [
    {
     "data": {
      "image/png": "[encoded data removed]",
      "text/plain": [
       "<Figure size 432x288 with 1 Axes>"
      ]
     },
     "metadata": {
      "needs_background": "light"
     },
     "output_type": "display_data"
    }
   ],
   "source": [
    "y_train_ct = Counter(y_train.tolist())\n",
    "\n",
    "keys = [emotions[y] for y in list(y_train_ct.keys())]\n",
    "data = y_train_ct.values()\n",
    "keys.sort()\n",
    "to_plot= pd.DataFrame(data,index=keys)\n",
    "to_plot.plot.bar()\n",
    "\n",
    "plt.xlabel(\"Discrete emotion\")\n",
    "plt.ylabel(\"Number of samples\")\n",
    "plt.title(\"Train Data\")\n",
    "plt.show()"
   ]
  },
  {
   "cell_type": "code",
   "execution_count": 17,
   "metadata": {},
   "outputs": [
    {
     "data": {
      "image/png": "[encoded data removed]",
      "text/plain": [
       "<Figure size 432x288 with 1 Axes>"
      ]
     },
     "metadata": {
      "needs_background": "light"
     },
     "output_type": "display_data"
    }
   ],
   "source": [
    "y_val_ct = Counter(y_val.tolist())\n",
    "\n",
    "keys = [emotions[y] for y in list(y_val_ct.keys())]\n",
    "data = y_val_ct.values()\n",
    "keys.sort()\n",
    "to_plot= pd.DataFrame(data,index=keys)\n",
    "to_plot.plot.bar()\n",
    "\n",
    "plt.xlabel(\"Discrete emotion\")\n",
    "plt.ylabel(\"Number of samples\")\n",
    "plt.title(\"Validation Data\")\n",
    "plt.show()"
   ]
  },
  {
   "cell_type": "code",
   "execution_count": 18,
   "metadata": {},
   "outputs": [
    {
     "data": {
      "image/png": "[encoded data removed]",
      "text/plain": [
       "<Figure size 432x288 with 1 Axes>"
      ]
     },
     "metadata": {
      "needs_background": "light"
     },
     "output_type": "display_data"
    }
   ],
   "source": [
    "y_test_ct = Counter(y_test.tolist())\n",
    "\n",
    "keys = [emotions[y] for y in list(y_test_ct.keys())]\n",
    "data = y_test_ct.values()\n",
    "keys.sort()\n",
    "to_plot= pd.DataFrame(data,index=keys)\n",
    "to_plot.plot.bar()\n",
    "\n",
    "plt.xlabel(\"Discrete emotion\")\n",
    "plt.ylabel(\"Number of samples\")\n",
    "plt.title(\"Test Data\")\n",
    "plt.show()"
   ]
  },
  {
   "cell_type": "code",
   "execution_count": 19,
   "metadata": {},
   "outputs": [],
   "source": [
    "output_size=len(list(emotions.keys()))\n",
    "\n",
    "set_hyperparameters = [{\"learning_rate\": 0.001,\n",
    "                        \"hidden_size\": 100,\n",
    "                        \"number_layers\": 3,\n",
    "                        \"batch_size\": 256,\n",
    "                        \"model\": 'model1'\n",
    "                        },\n",
    "                       {\"learning_rate\": 0.001,\n",
    "                        \"hidden_size\": 100,\n",
    "                        \"number_layers\": 3,\n",
    "                        \"batch_size\": 32,\n",
    "                        \"model\": 'model2'\n",
    "                       },\n",
    "                       {\"learning_rate\": 0.001,\n",
    "                        \"hidden_size\": 250,\n",
    "                        \"number_layers\": 4,\n",
    "                        \"batch_size\": 32,\n",
    "                        \"model\": 'model3'\n",
    "                       },\n",
    "                       {\"learning_rate\": 0.001,\n",
    "                        \"hidden_size\": 250,\n",
    "                        \"number_layers\": 3,\n",
    "                        \"batch_size\": 64,\n",
    "                        \"model\": 'model4'\n",
    "                       },\n",
    "                       {\"learning_rate\": 0.001,\n",
    "                        \"hidden_size\": 250,\n",
    "                        \"number_layers\": 3,\n",
    "                        \"batch_size\": 32,\n",
    "                        \"model\": 'model5'\n",
    "                       },\n",
    "                       {\"learning_rate\": 0.001,\n",
    "                        \"hidden_size\": 250,\n",
    "                        \"number_layers\": 2,\n",
    "                        \"batch_size\": 32,\n",
    "                        \"model\": 'model6'\n",
    "                       }\n",
    "                      ]"
   ]
  },
  {
   "cell_type": "code",
   "execution_count": 20,
   "metadata": {},
   "outputs": [
    {
     "name": "stdout",
     "output_type": "stream",
     "text": [
      "model1: Total loss in epoch 99 is: 4.099579811096191      |      F1 score in validation is: 0.468878563906961537\n",
      " Finished training model1.\n",
      "model2: Total loss in epoch 99 is: 22.719480514526367      |      F1 score in validation is: 0.51157330887877054\n",
      " Finished training model2.\n",
      "model3: Total loss in epoch 99 is: 16.35175323486328      |      F1 score in validation is: 0.516647594702446317\n",
      " Finished training model3.\n",
      "model4: Total loss in epoch 99 is: 3.701815366744995      |      F1 score in validation is: 0.569752301618918415\n",
      " Finished training model4.\n",
      "model5: Total loss in epoch 99 is: 8.939533233642578      |      F1 score in validation is: 0.552286856600883247\n",
      " Finished training model5.\n",
      "model6: Total loss in epoch 99 is: 7.041696548461914      |      F1 score in validation is: 0.544358367750470214\n",
      " Finished training model6.\n"
     ]
    }
   ],
   "source": [
    "for hp in set_hyperparameters:\n",
    "    trainer.train_model(model, x_train, y_train, x_val, y_val, hp, output_size)"
   ]
  },
  {
   "cell_type": "code",
   "execution_count": 29,
   "metadata": {},
   "outputs": [],
   "source": [
    "best_model_path = \"project_models/model4.pt\""
   ]
  },
  {
   "cell_type": "code",
   "execution_count": 53,
   "metadata": {},
   "outputs": [
    {
     "name": "stdout",
     "output_type": "stream",
     "text": [
      "{0: 'neutral', 1: 'calm', 2: 'happy', 3: 'sad', 4: 'angry', 5: 'fearful', 6: 'disgust', 7: 'surprised'}\n",
      "F1 Score: 0.6271254183390822\n",
      "              precision    recall  f1-score   support\n",
      "\n",
      "           0       0.70      0.39      0.50        18\n",
      "           1       0.77      0.92      0.84        25\n",
      "           2       0.62      0.56      0.59        43\n",
      "           3       0.62      0.59      0.60        27\n",
      "           4       0.75      0.60      0.67        30\n",
      "           5       0.68      0.74      0.71        23\n",
      "           6       0.57      0.65      0.61        26\n",
      "           7       0.44      0.58      0.50        24\n",
      "\n",
      "    accuracy                           0.63       216\n",
      "   macro avg       0.64      0.63      0.63       216\n",
      "weighted avg       0.64      0.63      0.63       216\n",
      "\n"
     ]
    },
    {
     "data": {
      "image/png": "[encoded data removed]",
      "text/plain": [
       "<Figure size 432x288 with 2 Axes>"
      ]
     },
     "metadata": {},
     "output_type": "display_data"
    }
   ],
   "source": [
    "y_pred = trainer.predict(x_test, model, best_model_path)\n",
    "print(emotions)\n",
    "print(\"F1 Score:\", f1_score(y_test, y_pred, average=\"weighted\"))\n",
    "print(classification_report(y_test, y_pred))\n",
    "cn = confusion_matrix(y_test, y_pred, normalize=\"true\")\n",
    "df_cm = pd.DataFrame(cn, index = [i for i in emotions.values()],\n",
    "                  columns = [i for i in emotions.values()])\n",
    "# plt.figure(figsize=(10,7))\n",
    "sn.set(font_scale=1.2) # for label size\n",
    "sn.heatmap(df_cm, annot=True, annot_kws={\"size\": 12},cmap=\"YlGnBu\") # font size\n",
    "\n",
    "plt.show()"
   ]
  },
  {
   "cell_type": "code",
   "execution_count": 55,
   "metadata": {},
   "outputs": [],
   "source": [
    "my_audios = Path(\"Audio_Merle\")\n",
    "X_merle, y_merle = [], []\n",
    "for file in my_audios.glob(\"*.wav\"):\n",
    "    # get the base name of the audio file\n",
    "    basename = os.path.basename(file)\n",
    "    # get the emotion label\n",
    "    emotion = basename.split(\".\")[0]\n",
    "    emotion = int(emotion)-1\n",
    "    # extract features\n",
    "    features = extract_feature(file)\n",
    "\n",
    "    X_merle.append(features)\n",
    "    y_merle.append(emotion)\n",
    "    merle_e = [emotions[emotion] for emotion in y_merle]"
   ]
  },
  {
   "cell_type": "code",
   "execution_count": 56,
   "metadata": {},
   "outputs": [],
   "source": [
    "x = torch.Tensor(X_merle)"
   ]
  },
  {
   "cell_type": "code",
   "execution_count": 57,
   "metadata": {},
   "outputs": [],
   "source": [
    "y_pred = trainer.predict(x, model, best_model_path)\n",
    "pred_e = [emotions[emotion] for emotion in y_pred]"
   ]
  },
  {
   "cell_type": "code",
   "execution_count": 58,
   "metadata": {},
   "outputs": [
    {
     "name": "stdout",
     "output_type": "stream",
     "text": [
      "False      |       correct Label: surprised       |       Prediction: happy\n",
      "False      |       correct Label: disgust       |       Prediction: happy\n",
      "False      |       correct Label: fearful       |       Prediction: happy\n",
      "False      |       correct Label: sad       |       Prediction: happy\n",
      "True      |       correct Label: happy       |       Prediction: happy\n",
      "False      |       correct Label: neutral       |       Prediction: happy\n",
      "False      |       correct Label: calm       |       Prediction: happy\n",
      "False      |       correct Label: angry       |       Prediction: happy\n"
     ]
    }
   ],
   "source": [
    "for i in range(len(pred_e)):\n",
    "    print(f'{merle_e[i] == pred_e[i]}      |       correct Label: {merle_e[i]}       |       Prediction: {pred_e[i]}')"
   ]
  },
  {
   "cell_type": "code",
   "execution_count": 59,
   "metadata": {},
   "outputs": [
    {
     "name": "stdout",
     "output_type": "stream",
     "text": [
      "0.027777777777777776\n"
     ]
    }
   ],
   "source": [
    "print(f1_score(y_merle, y_pred, average='weighted'))"
   ]
  },
  {
   "cell_type": "code",
   "execution_count": 63,
   "metadata": {},
   "outputs": [],
   "source": [
    "GER_audios = Path(\"German\")\n",
    "\n",
    "GER_em = {\n",
    "    \"W\": 4,\n",
    "    \"E\": 6,\n",
    "    \"A\": 5,\n",
    "    \"F\": 2,\n",
    "    \"T\": 3,\n",
    "    \"N\": 0\n",
    "}\n",
    "X_GER, y_GER = [], []\n",
    "for file in GER_audios.glob(\"*.wav\"):\n",
    "    # get the base name of the audio file\n",
    "    basename = os.path.basename(file)\n",
    "    # get the emotion label\n",
    "    emotion = basename[5]\n",
    "    if emotion in GER_em.keys():\n",
    "        emotion = GER_em[emotion] \n",
    "        # extract features\n",
    "        features = extract_feature(file)\n",
    "\n",
    "        X_GER.append(features)\n",
    "        y_GER.append(emotion)\n",
    "        GER_e = [emotions[emotion] for emotion in y_GER]"
   ]
  },
  {
   "cell_type": "code",
   "execution_count": 72,
   "metadata": {},
   "outputs": [
    {
     "data": {
      "text/plain": [
       "torch.Size([454, 180])"
      ]
     },
     "execution_count": 72,
     "metadata": {},
     "output_type": "execute_result"
    }
   ],
   "source": [
    "x = torch.Tensor(X_GER)\n",
    "x.shape"
   ]
  },
  {
   "cell_type": "code",
   "execution_count": 67,
   "metadata": {},
   "outputs": [],
   "source": [
    "y_pred = trainer.predict(x, model, best_model_path)\n",
    "pred_e = [emotions[emotion] for emotion in y_pred]"
   ]
  },
  {
   "cell_type": "code",
   "execution_count": 71,
   "metadata": {},
   "outputs": [
    {
     "name": "stdout",
     "output_type": "stream",
     "text": [
      "{0: 'neutral', 1: 'calm', 2: 'happy', 3: 'sad', 4: 'angry', 5: 'fearful', 6: 'disgust', 7: 'surprised'}\n",
      "F1 Score: 0.12250493695883337\n",
      "              precision    recall  f1-score   support\n",
      "\n",
      "           0       0.00      0.00      0.00        79\n",
      "           2       0.00      0.00      0.00        71\n",
      "           3       0.00      0.00      0.00        62\n",
      "           4       0.28      1.00      0.44       127\n",
      "           5       0.00      0.00      0.00        69\n",
      "           6       0.00      0.00      0.00        46\n",
      "\n",
      "    accuracy                           0.28       454\n",
      "   macro avg       0.05      0.17      0.07       454\n",
      "weighted avg       0.08      0.28      0.12       454\n",
      "\n"
     ]
    },
    {
     "data": {
      "image/png": "[encoded data removed]",
      "text/plain": [
       "<Figure size 432x288 with 2 Axes>"
      ]
     },
     "metadata": {},
     "output_type": "display_data"
    }
   ],
   "source": [
    "print(emotions)\n",
    "print(\"F1 Score:\", f1_score(y_GER, y_pred, average=\"weighted\"))\n",
    "print(classification_report(y_GER, y_pred))\n",
    "cn = confusion_matrix(y_GER, y_pred, normalize=\"true\")\n",
    "df_cm = pd.DataFrame(cn, index = [emotions[GER_em[i]] for i in GER_em.keys()],\n",
    "                  columns = [emotions[GER_em[i]] for i in GER_em.keys()])\n",
    "# plt.figure(figsize=(10,7))\n",
    "sn.set(font_scale=1.2) # for label size\n",
    "sn.heatmap(df_cm, annot=True, annot_kws={\"size\": 12},cmap=\"YlGnBu\") # font size\n",
    "\n",
    "plt.show()"
   ]
  }
 ],
 "metadata": {
  "kernelspec": {
   "display_name": "Python 3",
   "language": "python",
   "name": "python3"
  },
  "language_info": {
   "codemirror_mode": {
    "name": "ipython",
    "version": 3
   },
   "file_extension": ".py",
   "mimetype": "text/x-python",
   "name": "python",
   "nbconvert_exporter": "python",
   "pygments_lexer": "ipython3",
   "version": "3.7.4"
  }
 },
 "nbformat": 4,
 "nbformat_minor": 4
}
